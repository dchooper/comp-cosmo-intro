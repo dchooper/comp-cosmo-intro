{
 "cells": [
  {
   "cell_type": "markdown",
   "id": "07bc532d",
   "metadata": {},
   "source": [
    "## Comparing models and data - notebook prepared by D. C. Hooper"
   ]
  },
  {
   "cell_type": "markdown",
   "id": "ea9d16df",
   "metadata": {},
   "source": [
    "We start by loading the necessary modules. A lot of data processing could be done with other python packages like csv and pandas, but here we only use numpy"
   ]
  },
  {
   "cell_type": "code",
   "execution_count": null,
   "id": "24cdf818",
   "metadata": {},
   "outputs": [],
   "source": [
    "%matplotlib inline\n",
    "import matplotlib\n",
    "import matplotlib.pyplot as plt\n",
    "import numpy as np"
   ]
  },
  {
   "cell_type": "markdown",
   "id": "bc77f400",
   "metadata": {},
   "source": [
    "Now we load the different models. \n",
    "The models.csv file contains a table of multipoles (first column) and the Cl's for ten models (columns 2-11)\n"
   ]
  },
  {
   "cell_type": "code",
   "execution_count": null,
   "id": "c0af2b89",
   "metadata": {},
   "outputs": [],
   "source": [
    "# The function genfromtxt is very useful for reading data from a file\n",
    "models = np.genfromtxt(\"models.csv\", dtype=float, delimiter=',', names=True)"
   ]
  },
  {
   "cell_type": "markdown",
   "id": "8ea75140",
   "metadata": {},
   "source": [
    "We can investigate what the table we just imported looks like"
   ]
  },
  {
   "cell_type": "code",
   "execution_count": null,
   "id": "9fbebaa7",
   "metadata": {},
   "outputs": [],
   "source": [
    "# This will print the first row of the table \n",
    "print(models[0])\n",
    "# This will print the list of multipoles and the first model\n",
    "print(models[\"ell\"], models[\"model_1\"])\n",
    "# Let's get the number of models (this will be useful for looping over models later on)\n",
    "num_models = len(models[0])-1\n",
    "print(num_models)"
   ]
  },
  {
   "cell_type": "markdown",
   "id": "c81413fe",
   "metadata": {},
   "source": [
    "### **1. Load the Planck data in the same way, and print out the Dl column**"
   ]
  },
  {
   "cell_type": "markdown",
   "id": "92403b6b",
   "metadata": {},
   "source": [
    "The data is located in a file called \"planck_data.csv\", and \n",
    "contains the following columns: `ell, Dl, minus_dDl, plus_dDl, BestFit`"
   ]
  },
  {
   "cell_type": "code",
   "execution_count": null,
   "id": "27b29be2",
   "metadata": {},
   "outputs": [],
   "source": [
    "planckTT_binned = "
   ]
  },
  {
   "cell_type": "markdown",
   "id": "aa9e266b",
   "metadata": {},
   "source": [
    "We can plot the models and data to see what they look like"
   ]
  },
  {
   "cell_type": "code",
   "execution_count": null,
   "id": "a5f82bff",
   "metadata": {},
   "outputs": [],
   "source": [
    "# We set up the figure, with linear axes and covering the full multipole range\n",
    "plt.figure(1)\n",
    "plt.xscale('linear')\n",
    "plt.yscale('linear')\n",
    "plt.xlim(2,2500)\n",
    "plt.minorticks_on()\n",
    "plt.xlabel(r'$\\ell$')\n",
    "plt.ylabel(r'$D_\\ell^\\mathrm{TT} \\,\\,\\,\\, \\left[\\mu K^2\\right]$')\n",
    "\n",
    "plt.errorbar(planckTT_binned[\"ell\"], planckTT_binned[\"Dl\"], yerr=[planckTT_binned[\"minus_dDl\"],planckTT_binned[\"plus_dDl\"]], label='Planck 2018 TT', fmt='o', markersize=4, ecolor='darkblue', markerfacecolor='orange', markeredgecolor='black')\n",
    "plt.legend()\n",
    "\n",
    "plt.figure(2)\n",
    "plt.xscale('linear')\n",
    "plt.yscale('linear')\n",
    "plt.xlim(2,2500)\n",
    "plt.minorticks_on()\n",
    "plt.xlabel(r'$\\ell$')\n",
    "plt.ylabel(r'$C_\\ell^\\mathrm{TT}$')\n",
    "for i in range(num_models):\n",
    "    model_name = \"model_{}\".format(i+1)\n",
    "    plt.plot(models[\"ell\"],models[model_name], label=model_name)\n",
    "plt.legend()"
   ]
  },
  {
   "cell_type": "markdown",
   "id": "815696cc",
   "metadata": {},
   "source": [
    "We can see that the models have different units than the data. The Planck data contains the Dls, in units of microkelvin squared, while the models are dimensionless. To fix this, we need to convert the Cls for the models to Dls:\n",
    "`Dls = Cls * T_cmb**2`\n",
    "with T_cmb = $2.7255\\times 10^6 \\mu$K"
   ]
  },
  {
   "cell_type": "markdown",
   "id": "208d40a8",
   "metadata": {},
   "source": [
    "### **2. Make a plot with the data and the models together, in the correct units**"
   ]
  },
  {
   "cell_type": "code",
   "execution_count": null,
   "id": "b25256e8",
   "metadata": {},
   "outputs": [],
   "source": []
  },
  {
   "cell_type": "markdown",
   "id": "4ccd177c",
   "metadata": {},
   "source": [
    "Now we move on to the data analysis. First, we should check if the data series and models have the same length, and are sampled at the same multipoles"
   ]
  },
  {
   "cell_type": "markdown",
   "id": "b2726dd5",
   "metadata": {},
   "source": [
    "### **3. Use the `len()` function to get the length of the data and models, and print the list of multipoles (ell) for the models and data**"
   ]
  },
  {
   "cell_type": "code",
   "execution_count": null,
   "id": "d0f9daf4",
   "metadata": {},
   "outputs": [],
   "source": []
  },
  {
   "cell_type": "markdown",
   "id": "d66cfa4c",
   "metadata": {},
   "source": [
    "We can see that the data series has fewer points than the models, and some of the multipole numbers don't match. We can interpolate in the model Cls and resample the models at the correct multipoles. We will make use of the numpy function `interp()`, with the syntax `np.interp(new_ell_range, old_ell_range, model_cls)`."
   ]
  },
  {
   "cell_type": "markdown",
   "id": "39c9afd0",
   "metadata": {},
   "source": [
    "### **4. Complete the following function to resample the model Cls**"
   ]
  },
  {
   "cell_type": "code",
   "execution_count": null,
   "id": "aed8bf4f",
   "metadata": {},
   "outputs": [],
   "source": [
    "# We will do the interpolation in a loop over all models. \n",
    "# This sets up an array we can add to in a loop\n",
    "model_interpolated = {}\n",
    "\n",
    "# Now we loop over all models\n",
    "for i in range(num_models):\n",
    "    model_name = \"model_{}\".format(i+1)\n",
    "    # Complete the following line! \n",
    "    model_interpolated[i] = np.interp(  )"
   ]
  },
  {
   "cell_type": "markdown",
   "id": "27c22ace",
   "metadata": {},
   "source": [
    "### **5. Make a new plot with the resampled models (in the correct units) and the data points**"
   ]
  },
  {
   "cell_type": "markdown",
   "id": "8816f494",
   "metadata": {},
   "source": [
    "Note that now we want to see the actual model points, not a line.\n",
    "To do this, we will need to change the syntax from \n",
    "`plt.plot(ell_range, Dls, label=model_name)` to\n",
    "`plt.scatter(ell_range, Dls, label = model_name, marker='x')`. The Cls of model $i$ are now located in `model_interpolated[i]`."
   ]
  },
  {
   "cell_type": "code",
   "execution_count": null,
   "id": "cb07695b",
   "metadata": {},
   "outputs": [],
   "source": []
  },
  {
   "cell_type": "markdown",
   "id": "803b4481",
   "metadata": {},
   "source": [
    "Now we want to find which model is a better description of the data. We will use Pearson's chi2 test:\n",
    "\n",
    "$ \\sum_l \\frac{(data_l - model_l)^2}{model_l}$\n",
    "\n",
    "which is summed over every data point $l$. The model with the lowest chi2 provides the best fit to the data.\n",
    "Here we could write a loop to sum over each value, but we can also make use of the numpy `sum()` function."
   ]
  },
  {
   "cell_type": "markdown",
   "id": "6634d3e3",
   "metadata": {},
   "source": [
    "### **6. Complete the following function to calculate the chi2 of each model**"
   ]
  },
  {
   "cell_type": "code",
   "execution_count": null,
   "id": "93fa1caf",
   "metadata": {},
   "outputs": [],
   "source": [
    "chi2_models = []\n",
    "\n",
    "# loop over models\n",
    "for i in range(num_models):\n",
    "    # Complete the following line!\n",
    "    chi2_models.append(np.sum(   ))\n",
    "    print(\"model {} has a chi2 of {:.2f}\".format(i+1, chi2_models[i]))\n"
   ]
  },
  {
   "cell_type": "markdown",
   "id": "a94061d6",
   "metadata": {},
   "source": [
    "### **7. Use the `min()` and `index()` functions to find the model with the minimum chi2**"
   ]
  },
  {
   "cell_type": "markdown",
   "id": "233e62e7",
   "metadata": {},
   "source": [
    "The syntax will be `min(array_name)` and `array_name.index(min(array_name))`. Remember that our models are numbered from 1 to 10, but python starts indeces from 0."
   ]
  },
  {
   "cell_type": "code",
   "execution_count": null,
   "id": "48dd3ff1",
   "metadata": {},
   "outputs": [],
   "source": [
    "min_chi2 = \n",
    "model_with_min_chi2 = \n",
    "print(\"The lowest chi2 is {:.2f}, in model {} \".format(min_chi2, model_with_min_chi2))"
   ]
  },
  {
   "cell_type": "markdown",
   "id": "12124470",
   "metadata": {},
   "source": [
    "### **8. Look up the model parameters for the best model in the `parameters.csv` file**"
   ]
  },
  {
   "cell_type": "markdown",
   "id": "d1808977",
   "metadata": {},
   "source": [
    "You can use the same functions we used to load the model and the data above. The file `parameters.csv` contains the following columns: `param_name, model_1, ..., model_10`"
   ]
  },
  {
   "cell_type": "code",
   "execution_count": null,
   "id": "4c4cfd58",
   "metadata": {},
   "outputs": [],
   "source": [
    "params = "
   ]
  },
  {
   "cell_type": "markdown",
   "id": "049c1779",
   "metadata": {},
   "source": [
    "### **9. Compare the parameters of your model to the bestfit found by Planck, and see if the results match**"
   ]
  },
  {
   "cell_type": "markdown",
   "id": "88362772",
   "metadata": {},
   "source": [
    "The Planck results are listed in the instructions sheet. The model parameters you found should be close to the Planck ones. If so, you have successfully reproduced the results of one of the leading CMB missions!"
   ]
  }
 ],
 "metadata": {
  "kernelspec": {
   "display_name": "Python 3 (ipykernel)",
   "language": "python",
   "name": "python3"
  },
  "language_info": {
   "codemirror_mode": {
    "name": "ipython",
    "version": 3
   },
   "file_extension": ".py",
   "mimetype": "text/x-python",
   "name": "python",
   "nbconvert_exporter": "python",
   "pygments_lexer": "ipython3",
   "version": "3.7.2"
  }
 },
 "nbformat": 4,
 "nbformat_minor": 5
}
